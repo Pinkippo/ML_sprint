{
 "cells": [
  {
   "cell_type": "code",
   "execution_count": 108,
   "metadata": {},
   "outputs": [],
   "source": [
    "# 라이브러리 임포트\n",
    "import numpy as np\n",
    "import pandas as pd\n",
    "import matplotlib.pyplot as plt\n",
    "\n",
    "from sklearn.model_selection import train_test_split\n",
    "from sklearn.preprocessing import StandardScaler\n",
    "\n",
    "from sklearn.linear_model import Ridge\n",
    "from sklearn.ensemble import RandomForestRegressor\n",
    "\n",
    "import warnings\n",
    "warnings.filterwarnings(action='ignore')"
   ]
  },
  {
   "cell_type": "code",
   "execution_count": 109,
   "metadata": {},
   "outputs": [
    {
     "name": "stdout",
     "output_type": "stream",
     "text": [
      "number_people             int64\n",
      "date                     object\n",
      "timestamp                 int64\n",
      "day_of_week               int64\n",
      "is_weekend                int64\n",
      "is_holiday                int64\n",
      "temperature             float64\n",
      "is_start_of_semester      int64\n",
      "is_during_semester        int64\n",
      "month                     int64\n",
      "hour                      int64\n",
      "dtype: object\n"
     ]
    }
   ],
   "source": [
    "#데이터 불러오기\n",
    "df = pd.read_csv('data3.csv')\n",
    "print(df.dtypes)"
   ]
  },
  {
   "cell_type": "code",
   "execution_count": 110,
   "metadata": {},
   "outputs": [
    {
     "name": "stdout",
     "output_type": "stream",
     "text": [
      "number_people             int64\n",
      "date                      int64\n",
      "timestamp                 int64\n",
      "day_of_week               int64\n",
      "is_weekend                int64\n",
      "is_holiday                int64\n",
      "temperature             float64\n",
      "is_start_of_semester      int64\n",
      "is_during_semester        int64\n",
      "month                     int64\n",
      "hour                      int64\n",
      "day                       int64\n",
      "minute                    int64\n",
      "dtype: object\n"
     ]
    }
   ],
   "source": [
    "#데이터 가공\n",
    "df['date'] = pd.to_datetime(df['date'])\n",
    "df['month'] = df['date'].apply(lambda x: x.month)\n",
    "df['day'] = df['date'].apply(lambda x: x.day)\n",
    "df['hour'] = df['date'].apply(lambda x: x.hour)\n",
    "df['minute'] = df['date'].apply(lambda x: x.minute)\n",
    "\n",
    "#df = df.drop('date', axis=1)\n",
    "df['date'] = pd.to_datetime(df['date'], utc=True).dt.strftime('%Y%m%d%H%M').astype(int)\n",
    "\n",
    "print(df.dtypes)\n",
    "\n",
    "#y 데이터 설정 - 사용 인원\n",
    "y = df['number_people']\n",
    "#x 데이터 설정에서 제거 - 인원, 타임스탬프\n",
    "X = df.drop(['number_people','timestamp','date'], axis=1)\n",
    "\n",
    "# Train-test split\n",
    "X_train, X_test, y_train, y_test = train_test_split(X, y, train_size=0.7, shuffle=True, random_state=1)\n",
    "\n",
    "# Scale X\n",
    "scaler = StandardScaler()\n",
    "scaler.fit(X_train)\n",
    "X_train = pd.DataFrame(scaler.transform(X_train), index=X_train.index, columns=X_train.columns)\n",
    "X_test = pd.DataFrame(scaler.transform(X_test), index=X_test.index, columns=X_test.columns)\n",
    "    "
   ]
  },
  {
   "cell_type": "code",
   "execution_count": 111,
   "metadata": {},
   "outputs": [
    {
     "data": {
      "text/html": [
       "<div>\n",
       "<style scoped>\n",
       "    .dataframe tbody tr th:only-of-type {\n",
       "        vertical-align: middle;\n",
       "    }\n",
       "\n",
       "    .dataframe tbody tr th {\n",
       "        vertical-align: top;\n",
       "    }\n",
       "\n",
       "    .dataframe thead th {\n",
       "        text-align: right;\n",
       "    }\n",
       "</style>\n",
       "<table border=\"1\" class=\"dataframe\">\n",
       "  <thead>\n",
       "    <tr style=\"text-align: right;\">\n",
       "      <th></th>\n",
       "      <th>date</th>\n",
       "      <th>day_of_week</th>\n",
       "      <th>is_weekend</th>\n",
       "      <th>is_holiday</th>\n",
       "      <th>temperature</th>\n",
       "      <th>is_start_of_semester</th>\n",
       "      <th>is_during_semester</th>\n",
       "      <th>month</th>\n",
       "      <th>hour</th>\n",
       "      <th>day</th>\n",
       "      <th>minute</th>\n",
       "    </tr>\n",
       "  </thead>\n",
       "  <tbody>\n",
       "    <tr>\n",
       "      <th>88741</th>\n",
       "      <td>0.299741</td>\n",
       "      <td>-0.487071</td>\n",
       "      <td>-0.626311</td>\n",
       "      <td>-0.051356</td>\n",
       "      <td>-0.951746</td>\n",
       "      <td>-0.291660</td>\n",
       "      <td>0.719810</td>\n",
       "      <td>-0.710994</td>\n",
       "      <td>0.413626</td>\n",
       "      <td>-0.554484</td>\n",
       "      <td>-0.792471</td>\n",
       "    </tr>\n",
       "    <tr>\n",
       "      <th>119921</th>\n",
       "      <td>0.450120</td>\n",
       "      <td>0.013211</td>\n",
       "      <td>-0.626311</td>\n",
       "      <td>-0.051356</td>\n",
       "      <td>-1.133218</td>\n",
       "      <td>-0.291660</td>\n",
       "      <td>-1.389255</td>\n",
       "      <td>1.324260</td>\n",
       "      <td>-0.182193</td>\n",
       "      <td>0.692103</td>\n",
       "      <td>-1.427739</td>\n",
       "    </tr>\n",
       "    <tr>\n",
       "      <th>36814</th>\n",
       "      <td>0.344969</td>\n",
       "      <td>1.514060</td>\n",
       "      <td>1.596650</td>\n",
       "      <td>-0.051356</td>\n",
       "      <td>0.934124</td>\n",
       "      <td>-0.291660</td>\n",
       "      <td>-1.389255</td>\n",
       "      <td>-0.129493</td>\n",
       "      <td>1.456309</td>\n",
       "      <td>0.918755</td>\n",
       "      <td>-1.369988</td>\n",
       "    </tr>\n",
       "    <tr>\n",
       "      <th>110383</th>\n",
       "      <td>0.406528</td>\n",
       "      <td>1.514060</td>\n",
       "      <td>1.596650</td>\n",
       "      <td>-0.051356</td>\n",
       "      <td>-0.886991</td>\n",
       "      <td>-0.291660</td>\n",
       "      <td>0.719810</td>\n",
       "      <td>0.742759</td>\n",
       "      <td>-1.522785</td>\n",
       "      <td>0.012147</td>\n",
       "      <td>1.748601</td>\n",
       "    </tr>\n",
       "    <tr>\n",
       "      <th>61277</th>\n",
       "      <td>2.371926</td>\n",
       "      <td>-0.487071</td>\n",
       "      <td>-0.626311</td>\n",
       "      <td>-0.051356</td>\n",
       "      <td>1.214725</td>\n",
       "      <td>-0.291660</td>\n",
       "      <td>0.719810</td>\n",
       "      <td>-1.292496</td>\n",
       "      <td>0.115717</td>\n",
       "      <td>-0.894462</td>\n",
       "      <td>0.766823</td>\n",
       "    </tr>\n",
       "    <tr>\n",
       "      <th>...</th>\n",
       "      <td>...</td>\n",
       "      <td>...</td>\n",
       "      <td>...</td>\n",
       "      <td>...</td>\n",
       "      <td>...</td>\n",
       "      <td>...</td>\n",
       "      <td>...</td>\n",
       "      <td>...</td>\n",
       "      <td>...</td>\n",
       "      <td>...</td>\n",
       "      <td>...</td>\n",
       "    </tr>\n",
       "    <tr>\n",
       "      <th>50057</th>\n",
       "      <td>0.409280</td>\n",
       "      <td>1.013777</td>\n",
       "      <td>1.596650</td>\n",
       "      <td>-0.051356</td>\n",
       "      <td>1.126788</td>\n",
       "      <td>-0.291660</td>\n",
       "      <td>0.719810</td>\n",
       "      <td>0.742759</td>\n",
       "      <td>-1.373830</td>\n",
       "      <td>1.485386</td>\n",
       "      <td>0.997830</td>\n",
       "    </tr>\n",
       "    <tr>\n",
       "      <th>98047</th>\n",
       "      <td>0.343506</td>\n",
       "      <td>-1.487637</td>\n",
       "      <td>-0.626311</td>\n",
       "      <td>-0.051356</td>\n",
       "      <td>-1.030090</td>\n",
       "      <td>-0.291660</td>\n",
       "      <td>-1.389255</td>\n",
       "      <td>-0.129493</td>\n",
       "      <td>-0.926966</td>\n",
       "      <td>0.238799</td>\n",
       "      <td>0.420313</td>\n",
       "    </tr>\n",
       "    <tr>\n",
       "      <th>5192</th>\n",
       "      <td>-1.710506</td>\n",
       "      <td>-0.987354</td>\n",
       "      <td>-0.626311</td>\n",
       "      <td>-0.051356</td>\n",
       "      <td>1.149971</td>\n",
       "      <td>-0.291660</td>\n",
       "      <td>0.719810</td>\n",
       "      <td>0.742759</td>\n",
       "      <td>1.605263</td>\n",
       "      <td>-1.121114</td>\n",
       "      <td>-0.503713</td>\n",
       "    </tr>\n",
       "    <tr>\n",
       "      <th>77708</th>\n",
       "      <td>0.217222</td>\n",
       "      <td>0.013211</td>\n",
       "      <td>-0.626311</td>\n",
       "      <td>-0.051356</td>\n",
       "      <td>-1.090848</td>\n",
       "      <td>3.428645</td>\n",
       "      <td>0.719810</td>\n",
       "      <td>-1.873997</td>\n",
       "      <td>-1.820694</td>\n",
       "      <td>0.578777</td>\n",
       "      <td>0.073803</td>\n",
       "    </tr>\n",
       "    <tr>\n",
       "      <th>98539</th>\n",
       "      <td>0.344324</td>\n",
       "      <td>0.013211</td>\n",
       "      <td>-0.626311</td>\n",
       "      <td>-0.051356</td>\n",
       "      <td>-0.823036</td>\n",
       "      <td>-0.291660</td>\n",
       "      <td>-1.389255</td>\n",
       "      <td>-0.129493</td>\n",
       "      <td>0.711535</td>\n",
       "      <td>0.578777</td>\n",
       "      <td>-0.330458</td>\n",
       "    </tr>\n",
       "  </tbody>\n",
       "</table>\n",
       "<p>87057 rows × 11 columns</p>\n",
       "</div>"
      ],
      "text/plain": [
       "            date  day_of_week  is_weekend  is_holiday  temperature   \n",
       "88741   0.299741    -0.487071   -0.626311   -0.051356    -0.951746  \\\n",
       "119921  0.450120     0.013211   -0.626311   -0.051356    -1.133218   \n",
       "36814   0.344969     1.514060    1.596650   -0.051356     0.934124   \n",
       "110383  0.406528     1.514060    1.596650   -0.051356    -0.886991   \n",
       "61277   2.371926    -0.487071   -0.626311   -0.051356     1.214725   \n",
       "...          ...          ...         ...         ...          ...   \n",
       "50057   0.409280     1.013777    1.596650   -0.051356     1.126788   \n",
       "98047   0.343506    -1.487637   -0.626311   -0.051356    -1.030090   \n",
       "5192   -1.710506    -0.987354   -0.626311   -0.051356     1.149971   \n",
       "77708   0.217222     0.013211   -0.626311   -0.051356    -1.090848   \n",
       "98539   0.344324     0.013211   -0.626311   -0.051356    -0.823036   \n",
       "\n",
       "        is_start_of_semester  is_during_semester     month      hour   \n",
       "88741              -0.291660            0.719810 -0.710994  0.413626  \\\n",
       "119921             -0.291660           -1.389255  1.324260 -0.182193   \n",
       "36814              -0.291660           -1.389255 -0.129493  1.456309   \n",
       "110383             -0.291660            0.719810  0.742759 -1.522785   \n",
       "61277              -0.291660            0.719810 -1.292496  0.115717   \n",
       "...                      ...                 ...       ...       ...   \n",
       "50057              -0.291660            0.719810  0.742759 -1.373830   \n",
       "98047              -0.291660           -1.389255 -0.129493 -0.926966   \n",
       "5192               -0.291660            0.719810  0.742759  1.605263   \n",
       "77708               3.428645            0.719810 -1.873997 -1.820694   \n",
       "98539              -0.291660           -1.389255 -0.129493  0.711535   \n",
       "\n",
       "             day    minute  \n",
       "88741  -0.554484 -0.792471  \n",
       "119921  0.692103 -1.427739  \n",
       "36814   0.918755 -1.369988  \n",
       "110383  0.012147  1.748601  \n",
       "61277  -0.894462  0.766823  \n",
       "...          ...       ...  \n",
       "50057   1.485386  0.997830  \n",
       "98047   0.238799  0.420313  \n",
       "5192   -1.121114 -0.503713  \n",
       "77708   0.578777  0.073803  \n",
       "98539   0.578777 -0.330458  \n",
       "\n",
       "[87057 rows x 11 columns]"
      ]
     },
     "execution_count": 111,
     "metadata": {},
     "output_type": "execute_result"
    }
   ],
   "source": [
    "X_train"
   ]
  },
  {
   "cell_type": "code",
   "execution_count": 112,
   "metadata": {},
   "outputs": [
    {
     "name": "stdout",
     "output_type": "stream",
     "text": [
      "Linear Regression (Ridge) Trained\n",
      "       Random Forest      Trained\n"
     ]
    }
   ],
   "source": [
    "models={\n",
    "    \"Linear Regression (Ridge)\":Ridge(),\n",
    "    \"       Random Forest     \":RandomForestRegressor()\n",
    "}\n",
    "\n",
    "for name,model in models.items():\n",
    "    model.fit(X_train,y_train)\n",
    "    print(name+\" Trained\")"
   ]
  },
  {
   "cell_type": "code",
   "execution_count": 113,
   "metadata": {},
   "outputs": [],
   "source": [
    "def get_rmse(y_test, y_pred):\n",
    "    rmse = np.sqrt(np.mean((y_test - y_pred)**2))\n",
    "    return rmse\n",
    "def get_r2(y_test,y_pred):\n",
    "    r2=1-(np.sum((y_test-y_pred)**20)/np.sum((y_test-y_test.mean())**2))\n",
    "    return r2"
   ]
  },
  {
   "cell_type": "code",
   "execution_count": 114,
   "metadata": {},
   "outputs": [
    {
     "name": "stdout",
     "output_type": "stream",
     "text": [
      "Linear Regression (Ridge)RMSE:14.84\n",
      "       Random Forest     RMSE:4.08\n"
     ]
    }
   ],
   "source": [
    "for name ,model in models.items():\n",
    "    y_pred=model.predict(X_test)\n",
    "    rmse=get_rmse(y_test,y_pred)\n",
    "    print(name+\"RMSE:{:.2f}\".format(rmse))"
   ]
  },
  {
   "cell_type": "code",
   "execution_count": 115,
   "metadata": {},
   "outputs": [
    {
     "name": "stdout",
     "output_type": "stream",
     "text": [
      "Linear Regression (Ridge) R^2: -8953920981173221900488328347648.00000\n",
      "       Random Forest      R^2: -1028794691982957985398784.00000\n"
     ]
    }
   ],
   "source": [
    "for name, model in models.items():\n",
    "    y_pred = model.predict(X_test)\n",
    "    r2 = get_r2(y_test, y_pred)\n",
    "    print(name + \" R^2: {:.5f}\".format(r2))"
   ]
  },
  {
   "cell_type": "code",
   "execution_count": 120,
   "metadata": {},
   "outputs": [
    {
     "data": {
      "image/png": "[encoded data removed]",
      "text/plain": [
       "<Figure size 640x480 with 1 Axes>"
      ]
     },
     "metadata": {},
     "output_type": "display_data"
    }
   ],
   "source": [
    "# 그래프 그리기\n",
    "#df_hour_mean.plot(kind='line', y='number_people', xticks=df_hour_mean.index)\n",
    "pred = models[\"       Random Forest     \"].predict(X_test)\n",
    "plt.scatter(X_test['date'], pred)\n",
    "plt.scatter(X_test['date'], y_test)\n",
    "\n",
    "plt.xlabel('date')\n",
    "plt.ylabel('Number of people')\n",
    "plt.show()"
   ]
  },
  {
   "cell_type": "code",
   "execution_count": null,
   "metadata": {},
   "outputs": [],
   "source": [
    "#여기에서 랜덤포레스트 모델 뽑아낼 예정"
   ]
  }
 ],
 "metadata": {
  "kernelspec": {
   "display_name": "Python 3",
   "language": "python",
   "name": "python3"
  },
  "language_info": {
   "codemirror_mode": {
    "name": "ipython",
    "version": 3
   },
   "file_extension": ".py",
   "mimetype": "text/x-python",
   "name": "python",
   "nbconvert_exporter": "python",
   "pygments_lexer": "ipython3",
   "version": "3.11.3"
  },
  "orig_nbformat": 4
 },
 "nbformat": 4,
 "nbformat_minor": 2
}
