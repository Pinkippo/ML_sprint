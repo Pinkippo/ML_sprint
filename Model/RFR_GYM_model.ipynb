{
 "cells": [
  {
   "cell_type": "code",
   "execution_count": 1,
   "metadata": {},
   "outputs": [],
   "source": [
    "# 넘파이, 판다스, 맷플롯립\n",
    "import numpy as np\n",
    "import pandas as pd\n",
    "import matplotlib.pyplot as plt\n",
    "\n",
    "# 사이킷런\n",
    "from sklearn.model_selection import train_test_split\n",
    "from sklearn.preprocessing import StandardScaler\n",
    "from sklearn.linear_model import Ridge\n",
    "from sklearn.ensemble import RandomForestRegressor\n",
    "from sklearn.metrics import mean_squared_error, r2_score\n",
    "\n",
    "# 경고 무시\n",
    "import warnings\n",
    "warnings.filterwarnings(action='ignore')\n"
   ]
  },
  {
   "cell_type": "code",
   "execution_count": 2,
   "metadata": {},
   "outputs": [
    {
     "name": "stdout",
     "output_type": "stream",
     "text": [
      "number_people             int64\n",
      "date                     object\n",
      "timestamp                 int64\n",
      "day_of_week               int64\n",
      "is_weekend                int64\n",
      "is_holiday                int64\n",
      "temperature             float64\n",
      "is_start_of_semester      int64\n",
      "is_during_semester        int64\n",
      "month                     int64\n",
      "hour                      int64\n",
      "dtype: object\n"
     ]
    }
   ],
   "source": [
    "#데이터 불러오고 타입 확인\n",
    "df = pd.read_csv('data3.csv')\n",
    "print(df.dtypes)"
   ]
  },
  {
   "cell_type": "code",
   "execution_count": 3,
   "metadata": {},
   "outputs": [
    {
     "name": "stdout",
     "output_type": "stream",
     "text": [
      "number_people             int64\n",
      "date                      int64\n",
      "timestamp                 int64\n",
      "day_of_week               int64\n",
      "is_weekend                int64\n",
      "is_holiday                int64\n",
      "temperature             float64\n",
      "is_start_of_semester      int64\n",
      "is_during_semester        int64\n",
      "month                     int64\n",
      "hour                      int64\n",
      "day                       int64\n",
      "minute                    int64\n",
      "dtype: object\n"
     ]
    }
   ],
   "source": [
    "#데이터 가공\n",
    "df['date'] = pd.to_datetime(df['date'])\n",
    "df['month'] = df['date'].apply(lambda x: x.month)\n",
    "df['day'] = df['date'].apply(lambda x: x.day)\n",
    "df['hour'] = df['date'].apply(lambda x: x.hour)\n",
    "df['minute'] = df['date'].apply(lambda x: x.minute)\n",
    "df['date'] = pd.to_datetime(df['date'], utc=True).dt.strftime('%Y%m%d%H%M').astype(int)\n",
    "\n",
    "#데이터 가공 후 타입 확인\n",
    "print(df.dtypes)"
   ]
  },
  {
   "cell_type": "code",
   "execution_count": 4,
   "metadata": {},
   "outputs": [
    {
     "name": "stdout",
     "output_type": "stream",
     "text": [
      "day_of_week               int64\n",
      "is_weekend                int64\n",
      "is_holiday                int64\n",
      "temperature             float64\n",
      "is_start_of_semester      int64\n",
      "is_during_semester        int64\n",
      "month                     int64\n",
      "hour                      int64\n",
      "day                       int64\n",
      "minute                    int64\n",
      "dtype: object\n"
     ]
    }
   ],
   "source": [
    "# 데이터 설정\n",
    "y = df['number_people']\n",
    "X = df.drop(['number_people','timestamp','date'], axis=1)\n",
    "\n",
    "# X 데이터 확인\n",
    "print(X.dtypes)"
   ]
  },
  {
   "cell_type": "code",
   "execution_count": 5,
   "metadata": {},
   "outputs": [],
   "source": [
    "# 훈련/테스트 세트 나누기\n",
    "X_train, X_test, y_train, y_test = train_test_split(X, y, train_size=0.7, shuffle=True)\n",
    "\n",
    "# 스탠다드 스케일링 하기\n",
    "scaler = StandardScaler()\n",
    "scaler.fit(X_train)\n",
    "X_train = pd.DataFrame(scaler.transform(X_train), index=X_train.index, columns=X_train.columns)\n",
    "X_test = pd.DataFrame(scaler.transform(X_test), index=X_test.index, columns=X_test.columns)"
   ]
  },
  {
   "cell_type": "code",
   "execution_count": 6,
   "metadata": {},
   "outputs": [
    {
     "data": {
      "text/html": [
       "<div>\n",
       "<style scoped>\n",
       "    .dataframe tbody tr th:only-of-type {\n",
       "        vertical-align: middle;\n",
       "    }\n",
       "\n",
       "    .dataframe tbody tr th {\n",
       "        vertical-align: top;\n",
       "    }\n",
       "\n",
       "    .dataframe thead th {\n",
       "        text-align: right;\n",
       "    }\n",
       "</style>\n",
       "<table border=\"1\" class=\"dataframe\">\n",
       "  <thead>\n",
       "    <tr style=\"text-align: right;\">\n",
       "      <th></th>\n",
       "      <th>day_of_week</th>\n",
       "      <th>is_weekend</th>\n",
       "      <th>is_holiday</th>\n",
       "      <th>temperature</th>\n",
       "      <th>is_start_of_semester</th>\n",
       "      <th>is_during_semester</th>\n",
       "      <th>month</th>\n",
       "      <th>hour</th>\n",
       "      <th>day</th>\n",
       "      <th>minute</th>\n",
       "    </tr>\n",
       "  </thead>\n",
       "  <tbody>\n",
       "    <tr>\n",
       "      <th>87446</th>\n",
       "      <td>1.507713</td>\n",
       "      <td>1.589116</td>\n",
       "      <td>-0.051356</td>\n",
       "      <td>-0.723453</td>\n",
       "      <td>-0.292054</td>\n",
       "      <td>0.716852</td>\n",
       "      <td>-0.708642</td>\n",
       "      <td>0.112211</td>\n",
       "      <td>-1.690320</td>\n",
       "      <td>0.651167</td>\n",
       "    </tr>\n",
       "    <tr>\n",
       "      <th>19486</th>\n",
       "      <td>-0.995080</td>\n",
       "      <td>-0.629281</td>\n",
       "      <td>-0.051356</td>\n",
       "      <td>1.118826</td>\n",
       "      <td>-0.292054</td>\n",
       "      <td>0.716852</td>\n",
       "      <td>-1.290055</td>\n",
       "      <td>-0.334135</td>\n",
       "      <td>-1.690320</td>\n",
       "      <td>-1.661684</td>\n",
       "    </tr>\n",
       "    <tr>\n",
       "      <th>40945</th>\n",
       "      <td>-1.495638</td>\n",
       "      <td>-0.629281</td>\n",
       "      <td>-0.051356</td>\n",
       "      <td>1.166822</td>\n",
       "      <td>-0.292054</td>\n",
       "      <td>-1.394988</td>\n",
       "      <td>0.163477</td>\n",
       "      <td>0.260993</td>\n",
       "      <td>0.697705</td>\n",
       "      <td>0.535525</td>\n",
       "    </tr>\n",
       "    <tr>\n",
       "      <th>81623</th>\n",
       "      <td>-1.495638</td>\n",
       "      <td>-0.629281</td>\n",
       "      <td>-0.051356</td>\n",
       "      <td>-0.847445</td>\n",
       "      <td>-0.292054</td>\n",
       "      <td>0.716852</td>\n",
       "      <td>-1.580761</td>\n",
       "      <td>1.153684</td>\n",
       "      <td>1.493713</td>\n",
       "      <td>0.072955</td>\n",
       "    </tr>\n",
       "    <tr>\n",
       "      <th>46628</th>\n",
       "      <td>-1.495638</td>\n",
       "      <td>-0.629281</td>\n",
       "      <td>-0.051356</td>\n",
       "      <td>1.125225</td>\n",
       "      <td>-0.292054</td>\n",
       "      <td>0.716852</td>\n",
       "      <td>0.744890</td>\n",
       "      <td>1.302466</td>\n",
       "      <td>-1.462889</td>\n",
       "      <td>-0.216152</td>\n",
       "    </tr>\n",
       "    <tr>\n",
       "      <th>...</th>\n",
       "      <td>...</td>\n",
       "      <td>...</td>\n",
       "      <td>...</td>\n",
       "      <td>...</td>\n",
       "      <td>...</td>\n",
       "      <td>...</td>\n",
       "      <td>...</td>\n",
       "      <td>...</td>\n",
       "      <td>...</td>\n",
       "      <td>...</td>\n",
       "    </tr>\n",
       "    <tr>\n",
       "      <th>3004</th>\n",
       "      <td>-1.495638</td>\n",
       "      <td>-0.629281</td>\n",
       "      <td>-0.051356</td>\n",
       "      <td>1.135624</td>\n",
       "      <td>-0.292054</td>\n",
       "      <td>0.716852</td>\n",
       "      <td>0.454183</td>\n",
       "      <td>-0.929263</td>\n",
       "      <td>-0.212019</td>\n",
       "      <td>0.072955</td>\n",
       "    </tr>\n",
       "    <tr>\n",
       "      <th>18710</th>\n",
       "      <td>-1.495638</td>\n",
       "      <td>-0.629281</td>\n",
       "      <td>-0.051356</td>\n",
       "      <td>0.940437</td>\n",
       "      <td>-0.292054</td>\n",
       "      <td>0.716852</td>\n",
       "      <td>-1.580761</td>\n",
       "      <td>-0.334135</td>\n",
       "      <td>0.697705</td>\n",
       "      <td>-1.661684</td>\n",
       "    </tr>\n",
       "    <tr>\n",
       "      <th>96647</th>\n",
       "      <td>0.506596</td>\n",
       "      <td>-0.629281</td>\n",
       "      <td>-0.051356</td>\n",
       "      <td>-0.957037</td>\n",
       "      <td>-0.292054</td>\n",
       "      <td>-1.394988</td>\n",
       "      <td>-0.127229</td>\n",
       "      <td>-0.036571</td>\n",
       "      <td>-0.894312</td>\n",
       "      <td>-0.736543</td>\n",
       "    </tr>\n",
       "    <tr>\n",
       "      <th>79329</th>\n",
       "      <td>1.007154</td>\n",
       "      <td>1.589116</td>\n",
       "      <td>-0.051356</td>\n",
       "      <td>-0.905041</td>\n",
       "      <td>-0.292054</td>\n",
       "      <td>0.716852</td>\n",
       "      <td>-1.580761</td>\n",
       "      <td>0.260993</td>\n",
       "      <td>-1.121742</td>\n",
       "      <td>0.072955</td>\n",
       "    </tr>\n",
       "    <tr>\n",
       "      <th>47651</th>\n",
       "      <td>-0.494521</td>\n",
       "      <td>-0.629281</td>\n",
       "      <td>-0.051356</td>\n",
       "      <td>0.858043</td>\n",
       "      <td>-0.292054</td>\n",
       "      <td>0.716852</td>\n",
       "      <td>0.744890</td>\n",
       "      <td>-0.631699</td>\n",
       "      <td>-0.439450</td>\n",
       "      <td>-1.661684</td>\n",
       "    </tr>\n",
       "  </tbody>\n",
       "</table>\n",
       "<p>87057 rows × 10 columns</p>\n",
       "</div>"
      ],
      "text/plain": [
       "       day_of_week  is_weekend  is_holiday  temperature  is_start_of_semester   \n",
       "87446     1.507713    1.589116   -0.051356    -0.723453             -0.292054  \\\n",
       "19486    -0.995080   -0.629281   -0.051356     1.118826             -0.292054   \n",
       "40945    -1.495638   -0.629281   -0.051356     1.166822             -0.292054   \n",
       "81623    -1.495638   -0.629281   -0.051356    -0.847445             -0.292054   \n",
       "46628    -1.495638   -0.629281   -0.051356     1.125225             -0.292054   \n",
       "...            ...         ...         ...          ...                   ...   \n",
       "3004     -1.495638   -0.629281   -0.051356     1.135624             -0.292054   \n",
       "18710    -1.495638   -0.629281   -0.051356     0.940437             -0.292054   \n",
       "96647     0.506596   -0.629281   -0.051356    -0.957037             -0.292054   \n",
       "79329     1.007154    1.589116   -0.051356    -0.905041             -0.292054   \n",
       "47651    -0.494521   -0.629281   -0.051356     0.858043             -0.292054   \n",
       "\n",
       "       is_during_semester     month      hour       day    minute  \n",
       "87446            0.716852 -0.708642  0.112211 -1.690320  0.651167  \n",
       "19486            0.716852 -1.290055 -0.334135 -1.690320 -1.661684  \n",
       "40945           -1.394988  0.163477  0.260993  0.697705  0.535525  \n",
       "81623            0.716852 -1.580761  1.153684  1.493713  0.072955  \n",
       "46628            0.716852  0.744890  1.302466 -1.462889 -0.216152  \n",
       "...                   ...       ...       ...       ...       ...  \n",
       "3004             0.716852  0.454183 -0.929263 -0.212019  0.072955  \n",
       "18710            0.716852 -1.580761 -0.334135  0.697705 -1.661684  \n",
       "96647           -1.394988 -0.127229 -0.036571 -0.894312 -0.736543  \n",
       "79329            0.716852 -1.580761  0.260993 -1.121742  0.072955  \n",
       "47651            0.716852  0.744890 -0.631699 -0.439450 -1.661684  \n",
       "\n",
       "[87057 rows x 10 columns]"
      ]
     },
     "execution_count": 6,
     "metadata": {},
     "output_type": "execute_result"
    }
   ],
   "source": [
    "# 스케일링 결과 확인\n",
    "X_train"
   ]
  },
  {
   "cell_type": "code",
   "execution_count": 7,
   "metadata": {},
   "outputs": [
    {
     "data": {
      "text/html": [
       "<style>#sk-container-id-1 {color: black;background-color: white;}#sk-container-id-1 pre{padding: 0;}#sk-container-id-1 div.sk-toggleable {background-color: white;}#sk-container-id-1 label.sk-toggleable__label {cursor: pointer;display: block;width: 100%;margin-bottom: 0;padding: 0.3em;box-sizing: border-box;text-align: center;}#sk-container-id-1 label.sk-toggleable__label-arrow:before {content: \"▸\";float: left;margin-right: 0.25em;color: #696969;}#sk-container-id-1 label.sk-toggleable__label-arrow:hover:before {color: black;}#sk-container-id-1 div.sk-estimator:hover label.sk-toggleable__label-arrow:before {color: black;}#sk-container-id-1 div.sk-toggleable__content {max-height: 0;max-width: 0;overflow: hidden;text-align: left;background-color: #f0f8ff;}#sk-container-id-1 div.sk-toggleable__content pre {margin: 0.2em;color: black;border-radius: 0.25em;background-color: #f0f8ff;}#sk-container-id-1 input.sk-toggleable__control:checked~div.sk-toggleable__content {max-height: 200px;max-width: 100%;overflow: auto;}#sk-container-id-1 input.sk-toggleable__control:checked~label.sk-toggleable__label-arrow:before {content: \"▾\";}#sk-container-id-1 div.sk-estimator input.sk-toggleable__control:checked~label.sk-toggleable__label {background-color: #d4ebff;}#sk-container-id-1 div.sk-label input.sk-toggleable__control:checked~label.sk-toggleable__label {background-color: #d4ebff;}#sk-container-id-1 input.sk-hidden--visually {border: 0;clip: rect(1px 1px 1px 1px);clip: rect(1px, 1px, 1px, 1px);height: 1px;margin: -1px;overflow: hidden;padding: 0;position: absolute;width: 1px;}#sk-container-id-1 div.sk-estimator {font-family: monospace;background-color: #f0f8ff;border: 1px dotted black;border-radius: 0.25em;box-sizing: border-box;margin-bottom: 0.5em;}#sk-container-id-1 div.sk-estimator:hover {background-color: #d4ebff;}#sk-container-id-1 div.sk-parallel-item::after {content: \"\";width: 100%;border-bottom: 1px solid gray;flex-grow: 1;}#sk-container-id-1 div.sk-label:hover label.sk-toggleable__label {background-color: #d4ebff;}#sk-container-id-1 div.sk-serial::before {content: \"\";position: absolute;border-left: 1px solid gray;box-sizing: border-box;top: 0;bottom: 0;left: 50%;z-index: 0;}#sk-container-id-1 div.sk-serial {display: flex;flex-direction: column;align-items: center;background-color: white;padding-right: 0.2em;padding-left: 0.2em;position: relative;}#sk-container-id-1 div.sk-item {position: relative;z-index: 1;}#sk-container-id-1 div.sk-parallel {display: flex;align-items: stretch;justify-content: center;background-color: white;position: relative;}#sk-container-id-1 div.sk-item::before, #sk-container-id-1 div.sk-parallel-item::before {content: \"\";position: absolute;border-left: 1px solid gray;box-sizing: border-box;top: 0;bottom: 0;left: 50%;z-index: -1;}#sk-container-id-1 div.sk-parallel-item {display: flex;flex-direction: column;z-index: 1;position: relative;background-color: white;}#sk-container-id-1 div.sk-parallel-item:first-child::after {align-self: flex-end;width: 50%;}#sk-container-id-1 div.sk-parallel-item:last-child::after {align-self: flex-start;width: 50%;}#sk-container-id-1 div.sk-parallel-item:only-child::after {width: 0;}#sk-container-id-1 div.sk-dashed-wrapped {border: 1px dashed gray;margin: 0 0.4em 0.5em 0.4em;box-sizing: border-box;padding-bottom: 0.4em;background-color: white;}#sk-container-id-1 div.sk-label label {font-family: monospace;font-weight: bold;display: inline-block;line-height: 1.2em;}#sk-container-id-1 div.sk-label-container {text-align: center;}#sk-container-id-1 div.sk-container {/* jupyter's `normalize.less` sets `[hidden] { display: none; }` but bootstrap.min.css set `[hidden] { display: none !important; }` so we also need the `!important` here to be able to override the default hidden behavior on the sphinx rendered scikit-learn.org. See: https://github.com/scikit-learn/scikit-learn/issues/21755 */display: inline-block !important;position: relative;}#sk-container-id-1 div.sk-text-repr-fallback {display: none;}</style><div id=\"sk-container-id-1\" class=\"sk-top-container\"><div class=\"sk-text-repr-fallback\"><pre>RandomForestRegressor()</pre><b>In a Jupyter environment, please rerun this cell to show the HTML representation or trust the notebook. <br />On GitHub, the HTML representation is unable to render, please try loading this page with nbviewer.org.</b></div><div class=\"sk-container\" hidden><div class=\"sk-item\"><div class=\"sk-estimator sk-toggleable\"><input class=\"sk-toggleable__control sk-hidden--visually\" id=\"sk-estimator-id-1\" type=\"checkbox\" checked><label for=\"sk-estimator-id-1\" class=\"sk-toggleable__label sk-toggleable__label-arrow\">RandomForestRegressor</label><div class=\"sk-toggleable__content\"><pre>RandomForestRegressor()</pre></div></div></div></div></div>"
      ],
      "text/plain": [
       "RandomForestRegressor()"
      ]
     },
     "execution_count": 7,
     "metadata": {},
     "output_type": "execute_result"
    }
   ],
   "source": [
    "# 모델 학습\n",
    "model = RandomForestRegressor()\n",
    "model.fit(X_train, y_train)"
   ]
  },
  {
   "cell_type": "code",
   "execution_count": 8,
   "metadata": {},
   "outputs": [
    {
     "name": "stdout",
     "output_type": "stream",
     "text": [
      "Mean squared error: 36.97020991913766\n",
      "R-squared: 0.9279378071491606\n"
     ]
    }
   ],
   "source": [
    "y_pred = model.predict(X_test)\n",
    "\n",
    "# 평균 제곱 오차(MSE)와 R-squared 값 계산\n",
    "mse = mean_squared_error(y_test, y_pred)\n",
    "r2 = r2_score(y_test, y_pred)\n",
    "\n",
    "print('Mean squared error:', mse)\n",
    "print('R-squared:', r2)"
   ]
  },
  {
   "cell_type": "code",
   "execution_count": 9,
   "metadata": {},
   "outputs": [
    {
     "name": "stdout",
     "output_type": "stream",
     "text": [
      "[21.98]\n"
     ]
    }
   ],
   "source": [
    "#예측 테스트 해보기\n",
    "test_predict = pd.DataFrame([[4, 1, 1, 50.00, 0, 0, 5, 11, 12, 35]], columns=X_test.columns)\n",
    "test_predict = scaler.transform(test_predict)\n",
    "print(model.predict(test_predict))\n"
   ]
  },
  {
   "cell_type": "code",
   "execution_count": 10,
   "metadata": {},
   "outputs": [],
   "source": [
    "# import pickle\n",
    "\n",
    "# # 모델 저장\n",
    "# with open('RFR_GYM_model_v2.pkl', 'wb') as f:\n",
    "#     pickle.dump(model, f)\n",
    "\n",
    "# # StandardScaler 객체 저장\n",
    "# with open('RFR_GYM_scaler_v2.pkl', 'wb') as f:\n",
    "#     pickle.dump(scaler, f)"
   ]
  },
  {
   "cell_type": "code",
   "execution_count": 13,
   "metadata": {},
   "outputs": [
    {
     "data": {
      "image/png": "[encoded data removed]",
      "text/plain": [
       "<Figure size 640x480 with 1 Axes>"
      ]
     },
     "metadata": {},
     "output_type": "display_data"
    }
   ],
   "source": [
    "X_scale = scaler.transform(X)\n",
    "pred = model.predict(X_scale)\n",
    "\n",
    "plt.scatter(X.index, pred, s=1, color='red', label='Predicted')\n",
    "plt.xlabel('date')\n",
    "plt.ylabel('Number of people')\n",
    "plt.legend()\n",
    "plt.show()"
   ]
  },
  {
   "cell_type": "code",
   "execution_count": null,
   "metadata": {},
   "outputs": [],
   "source": []
  }
 ],
 "metadata": {
  "kernelspec": {
   "display_name": "Python 3",
   "language": "python",
   "name": "python3"
  },
  "language_info": {
   "codemirror_mode": {
    "name": "ipython",
    "version": 3
   },
   "file_extension": ".py",
   "mimetype": "text/x-python",
   "name": "python",
   "nbconvert_exporter": "python",
   "pygments_lexer": "ipython3",
   "version": "3.11.3"
  },
  "orig_nbformat": 4
 },
 "nbformat": 4,
 "nbformat_minor": 2
}
