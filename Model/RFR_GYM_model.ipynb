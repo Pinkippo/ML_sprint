{
 "cells": [
  {
   "cell_type": "code",
   "execution_count": 61,
   "metadata": {},
   "outputs": [],
   "source": [
    "# 넘파이, 판다스, 맷플롯립\n",
    "import numpy as np\n",
    "import pandas as pd\n",
    "import matplotlib.pyplot as plt\n",
    "\n",
    "# 사이킷런\n",
    "from sklearn.model_selection import train_test_split\n",
    "from sklearn.preprocessing import StandardScaler\n",
    "from sklearn.linear_model import Ridge\n",
    "from sklearn.ensemble import RandomForestRegressor\n",
    "from sklearn.metrics import mean_squared_error, r2_score\n",
    "\n",
    "# 경고 무시\n",
    "import warnings\n",
    "warnings.filterwarnings(action='ignore')\n"
   ]
  },
  {
   "cell_type": "code",
   "execution_count": 62,
   "metadata": {},
   "outputs": [
    {
     "name": "stdout",
     "output_type": "stream",
     "text": [
      "number_people             int64\n",
      "date                     object\n",
      "timestamp                 int64\n",
      "day_of_week               int64\n",
      "is_weekend                int64\n",
      "is_holiday                int64\n",
      "temperature             float64\n",
      "is_start_of_semester      int64\n",
      "is_during_semester        int64\n",
      "month                     int64\n",
      "hour                      int64\n",
      "dtype: object\n"
     ]
    }
   ],
   "source": [
    "#데이터 불러오고 타입 확인\n",
    "df = pd.read_csv('data3.csv')\n",
    "print(df.dtypes)"
   ]
  },
  {
   "cell_type": "code",
   "execution_count": 63,
   "metadata": {},
   "outputs": [
    {
     "name": "stdout",
     "output_type": "stream",
     "text": [
      "number_people             int64\n",
      "date                      int64\n",
      "timestamp                 int64\n",
      "day_of_week               int64\n",
      "is_weekend                int64\n",
      "is_holiday                int64\n",
      "temperature             float64\n",
      "is_start_of_semester      int64\n",
      "is_during_semester        int64\n",
      "month                     int64\n",
      "hour                      int64\n",
      "day                       int64\n",
      "minute                    int64\n",
      "dtype: object\n"
     ]
    }
   ],
   "source": [
    "#데이터 가공\n",
    "df['date'] = pd.to_datetime(df['date'])\n",
    "df['month'] = df['date'].apply(lambda x: x.month)\n",
    "df['day'] = df['date'].apply(lambda x: x.day)\n",
    "df['hour'] = df['date'].apply(lambda x: x.hour)\n",
    "df['minute'] = df['date'].apply(lambda x: x.minute)\n",
    "df['date'] = pd.to_datetime(df['date'], utc=True).dt.strftime('%Y%m%d%H%M').astype(int)\n",
    "\n",
    "#데이터 가공 후 타입 확인\n",
    "print(df.dtypes)"
   ]
  },
  {
   "cell_type": "code",
   "execution_count": 64,
   "metadata": {},
   "outputs": [
    {
     "name": "stdout",
     "output_type": "stream",
     "text": [
      "date                      int64\n",
      "day_of_week               int64\n",
      "is_weekend                int64\n",
      "is_holiday                int64\n",
      "temperature             float64\n",
      "is_start_of_semester      int64\n",
      "is_during_semester        int64\n",
      "month                     int64\n",
      "hour                      int64\n",
      "day                       int64\n",
      "minute                    int64\n",
      "dtype: object\n"
     ]
    }
   ],
   "source": [
    "# 데이터 설정\n",
    "y = df['number_people']\n",
    "X = df.drop(['number_people','timestamp'], axis=1)\n",
    "\n",
    "# X 데이터 확인\n",
    "print(X.dtypes)"
   ]
  },
  {
   "cell_type": "code",
   "execution_count": 65,
   "metadata": {},
   "outputs": [],
   "source": [
    "# 훈련/테스트 세트 나누기\n",
    "X_train, X_test, y_train, y_test = train_test_split(X, y, train_size=0.7, shuffle=True)\n",
    "\n",
    "# 스탠다드 스케일링 하기\n",
    "scaler = StandardScaler()\n",
    "scaler.fit(X_train)\n",
    "X_train = pd.DataFrame(scaler.transform(X_train), index=X_train.index, columns=X_train.columns)\n",
    "X_test = pd.DataFrame(scaler.transform(X_test), index=X_test.index, columns=X_test.columns)"
   ]
  },
  {
   "cell_type": "code",
   "execution_count": 66,
   "metadata": {},
   "outputs": [
    {
     "data": {
      "text/html": [
       "<div>\n",
       "<style scoped>\n",
       "    .dataframe tbody tr th:only-of-type {\n",
       "        vertical-align: middle;\n",
       "    }\n",
       "\n",
       "    .dataframe tbody tr th {\n",
       "        vertical-align: top;\n",
       "    }\n",
       "\n",
       "    .dataframe thead th {\n",
       "        text-align: right;\n",
       "    }\n",
       "</style>\n",
       "<table border=\"1\" class=\"dataframe\">\n",
       "  <thead>\n",
       "    <tr style=\"text-align: right;\">\n",
       "      <th></th>\n",
       "      <th>date</th>\n",
       "      <th>day_of_week</th>\n",
       "      <th>is_weekend</th>\n",
       "      <th>is_holiday</th>\n",
       "      <th>temperature</th>\n",
       "      <th>is_start_of_semester</th>\n",
       "      <th>is_during_semester</th>\n",
       "      <th>month</th>\n",
       "      <th>hour</th>\n",
       "      <th>day</th>\n",
       "      <th>minute</th>\n",
       "    </tr>\n",
       "  </thead>\n",
       "  <tbody>\n",
       "    <tr>\n",
       "      <th>82318</th>\n",
       "      <td>0.258722</td>\n",
       "      <td>-0.992230</td>\n",
       "      <td>-0.628552</td>\n",
       "      <td>-0.052026</td>\n",
       "      <td>-1.075253</td>\n",
       "      <td>-0.29224</td>\n",
       "      <td>0.721117</td>\n",
       "      <td>-1.289301</td>\n",
       "      <td>-0.335112</td>\n",
       "      <td>-0.897704</td>\n",
       "      <td>-1.659911</td>\n",
       "    </tr>\n",
       "    <tr>\n",
       "      <th>82014</th>\n",
       "      <td>0.258062</td>\n",
       "      <td>0.508831</td>\n",
       "      <td>-0.628552</td>\n",
       "      <td>-0.052026</td>\n",
       "      <td>-0.921568</td>\n",
       "      <td>-0.29224</td>\n",
       "      <td>0.721117</td>\n",
       "      <td>-1.289301</td>\n",
       "      <td>1.450621</td>\n",
       "      <td>-1.352491</td>\n",
       "      <td>-1.659911</td>\n",
       "    </tr>\n",
       "    <tr>\n",
       "      <th>79363</th>\n",
       "      <td>0.237339</td>\n",
       "      <td>1.009185</td>\n",
       "      <td>1.590959</td>\n",
       "      <td>-0.052026</td>\n",
       "      <td>-1.026426</td>\n",
       "      <td>-0.29224</td>\n",
       "      <td>0.721117</td>\n",
       "      <td>-1.579659</td>\n",
       "      <td>1.301810</td>\n",
       "      <td>-1.125098</td>\n",
       "      <td>-0.504984</td>\n",
       "    </tr>\n",
       "    <tr>\n",
       "      <th>6411</th>\n",
       "      <td>-1.705379</td>\n",
       "      <td>-1.492583</td>\n",
       "      <td>-0.628552</td>\n",
       "      <td>-0.052026</td>\n",
       "      <td>1.259639</td>\n",
       "      <td>-0.29224</td>\n",
       "      <td>0.721117</td>\n",
       "      <td>0.743208</td>\n",
       "      <td>-0.037490</td>\n",
       "      <td>0.352962</td>\n",
       "      <td>-0.504984</td>\n",
       "    </tr>\n",
       "    <tr>\n",
       "      <th>67506</th>\n",
       "      <td>-1.707709</td>\n",
       "      <td>0.008477</td>\n",
       "      <td>-0.628552</td>\n",
       "      <td>-0.052026</td>\n",
       "      <td>-0.791096</td>\n",
       "      <td>-0.29224</td>\n",
       "      <td>0.721117</td>\n",
       "      <td>0.743208</td>\n",
       "      <td>-0.335112</td>\n",
       "      <td>-0.897704</td>\n",
       "      <td>-0.504984</td>\n",
       "    </tr>\n",
       "    <tr>\n",
       "      <th>...</th>\n",
       "      <td>...</td>\n",
       "      <td>...</td>\n",
       "      <td>...</td>\n",
       "      <td>...</td>\n",
       "      <td>...</td>\n",
       "      <td>...</td>\n",
       "      <td>...</td>\n",
       "      <td>...</td>\n",
       "      <td>...</td>\n",
       "      <td>...</td>\n",
       "      <td>...</td>\n",
       "    </tr>\n",
       "    <tr>\n",
       "      <th>111848</th>\n",
       "      <td>0.410535</td>\n",
       "      <td>-0.491876</td>\n",
       "      <td>-0.628552</td>\n",
       "      <td>-0.052026</td>\n",
       "      <td>-0.924770</td>\n",
       "      <td>-0.29224</td>\n",
       "      <td>0.721117</td>\n",
       "      <td>0.743208</td>\n",
       "      <td>-0.483923</td>\n",
       "      <td>1.148841</td>\n",
       "      <td>0.187973</td>\n",
       "    </tr>\n",
       "    <tr>\n",
       "      <th>88425</th>\n",
       "      <td>0.301220</td>\n",
       "      <td>-1.492583</td>\n",
       "      <td>-0.628552</td>\n",
       "      <td>-0.052026</td>\n",
       "      <td>-1.021624</td>\n",
       "      <td>-0.29224</td>\n",
       "      <td>0.721117</td>\n",
       "      <td>-0.708584</td>\n",
       "      <td>-0.335112</td>\n",
       "      <td>-0.784007</td>\n",
       "      <td>0.187973</td>\n",
       "    </tr>\n",
       "    <tr>\n",
       "      <th>13384</th>\n",
       "      <td>-1.660773</td>\n",
       "      <td>-0.491876</td>\n",
       "      <td>-0.628552</td>\n",
       "      <td>-0.052026</td>\n",
       "      <td>0.268690</td>\n",
       "      <td>-0.29224</td>\n",
       "      <td>-1.386738</td>\n",
       "      <td>1.323924</td>\n",
       "      <td>-0.781545</td>\n",
       "      <td>1.603628</td>\n",
       "      <td>-1.659911</td>\n",
       "    </tr>\n",
       "    <tr>\n",
       "      <th>106268</th>\n",
       "      <td>0.387047</td>\n",
       "      <td>0.008477</td>\n",
       "      <td>-0.628552</td>\n",
       "      <td>-0.052026</td>\n",
       "      <td>-0.979200</td>\n",
       "      <td>-0.29224</td>\n",
       "      <td>0.721117</td>\n",
       "      <td>0.452849</td>\n",
       "      <td>-1.674411</td>\n",
       "      <td>-0.101825</td>\n",
       "      <td>-1.082447</td>\n",
       "    </tr>\n",
       "    <tr>\n",
       "      <th>29306</th>\n",
       "      <td>0.305851</td>\n",
       "      <td>-0.992230</td>\n",
       "      <td>-0.628552</td>\n",
       "      <td>-0.052026</td>\n",
       "      <td>0.805788</td>\n",
       "      <td>-0.29224</td>\n",
       "      <td>-1.386738</td>\n",
       "      <td>-0.708584</td>\n",
       "      <td>-1.823222</td>\n",
       "      <td>1.717325</td>\n",
       "      <td>0.361212</td>\n",
       "    </tr>\n",
       "  </tbody>\n",
       "</table>\n",
       "<p>87057 rows × 11 columns</p>\n",
       "</div>"
      ],
      "text/plain": [
       "            date  day_of_week  is_weekend  is_holiday  temperature   \n",
       "82318   0.258722    -0.992230   -0.628552   -0.052026    -1.075253  \\\n",
       "82014   0.258062     0.508831   -0.628552   -0.052026    -0.921568   \n",
       "79363   0.237339     1.009185    1.590959   -0.052026    -1.026426   \n",
       "6411   -1.705379    -1.492583   -0.628552   -0.052026     1.259639   \n",
       "67506  -1.707709     0.008477   -0.628552   -0.052026    -0.791096   \n",
       "...          ...          ...         ...         ...          ...   \n",
       "111848  0.410535    -0.491876   -0.628552   -0.052026    -0.924770   \n",
       "88425   0.301220    -1.492583   -0.628552   -0.052026    -1.021624   \n",
       "13384  -1.660773    -0.491876   -0.628552   -0.052026     0.268690   \n",
       "106268  0.387047     0.008477   -0.628552   -0.052026    -0.979200   \n",
       "29306   0.305851    -0.992230   -0.628552   -0.052026     0.805788   \n",
       "\n",
       "        is_start_of_semester  is_during_semester     month      hour   \n",
       "82318               -0.29224            0.721117 -1.289301 -0.335112  \\\n",
       "82014               -0.29224            0.721117 -1.289301  1.450621   \n",
       "79363               -0.29224            0.721117 -1.579659  1.301810   \n",
       "6411                -0.29224            0.721117  0.743208 -0.037490   \n",
       "67506               -0.29224            0.721117  0.743208 -0.335112   \n",
       "...                      ...                 ...       ...       ...   \n",
       "111848              -0.29224            0.721117  0.743208 -0.483923   \n",
       "88425               -0.29224            0.721117 -0.708584 -0.335112   \n",
       "13384               -0.29224           -1.386738  1.323924 -0.781545   \n",
       "106268              -0.29224            0.721117  0.452849 -1.674411   \n",
       "29306               -0.29224           -1.386738 -0.708584 -1.823222   \n",
       "\n",
       "             day    minute  \n",
       "82318  -0.897704 -1.659911  \n",
       "82014  -1.352491 -1.659911  \n",
       "79363  -1.125098 -0.504984  \n",
       "6411    0.352962 -0.504984  \n",
       "67506  -0.897704 -0.504984  \n",
       "...          ...       ...  \n",
       "111848  1.148841  0.187973  \n",
       "88425  -0.784007  0.187973  \n",
       "13384   1.603628 -1.659911  \n",
       "106268 -0.101825 -1.082447  \n",
       "29306   1.717325  0.361212  \n",
       "\n",
       "[87057 rows x 11 columns]"
      ]
     },
     "execution_count": 66,
     "metadata": {},
     "output_type": "execute_result"
    }
   ],
   "source": [
    "# 스케일링 결과 확인\n",
    "X_train"
   ]
  },
  {
   "cell_type": "code",
   "execution_count": 67,
   "metadata": {},
   "outputs": [
    {
     "data": {
      "text/html": [
       "<style>#sk-container-id-7 {color: black;background-color: white;}#sk-container-id-7 pre{padding: 0;}#sk-container-id-7 div.sk-toggleable {background-color: white;}#sk-container-id-7 label.sk-toggleable__label {cursor: pointer;display: block;width: 100%;margin-bottom: 0;padding: 0.3em;box-sizing: border-box;text-align: center;}#sk-container-id-7 label.sk-toggleable__label-arrow:before {content: \"▸\";float: left;margin-right: 0.25em;color: #696969;}#sk-container-id-7 label.sk-toggleable__label-arrow:hover:before {color: black;}#sk-container-id-7 div.sk-estimator:hover label.sk-toggleable__label-arrow:before {color: black;}#sk-container-id-7 div.sk-toggleable__content {max-height: 0;max-width: 0;overflow: hidden;text-align: left;background-color: #f0f8ff;}#sk-container-id-7 div.sk-toggleable__content pre {margin: 0.2em;color: black;border-radius: 0.25em;background-color: #f0f8ff;}#sk-container-id-7 input.sk-toggleable__control:checked~div.sk-toggleable__content {max-height: 200px;max-width: 100%;overflow: auto;}#sk-container-id-7 input.sk-toggleable__control:checked~label.sk-toggleable__label-arrow:before {content: \"▾\";}#sk-container-id-7 div.sk-estimator input.sk-toggleable__control:checked~label.sk-toggleable__label {background-color: #d4ebff;}#sk-container-id-7 div.sk-label input.sk-toggleable__control:checked~label.sk-toggleable__label {background-color: #d4ebff;}#sk-container-id-7 input.sk-hidden--visually {border: 0;clip: rect(1px 1px 1px 1px);clip: rect(1px, 1px, 1px, 1px);height: 1px;margin: -1px;overflow: hidden;padding: 0;position: absolute;width: 1px;}#sk-container-id-7 div.sk-estimator {font-family: monospace;background-color: #f0f8ff;border: 1px dotted black;border-radius: 0.25em;box-sizing: border-box;margin-bottom: 0.5em;}#sk-container-id-7 div.sk-estimator:hover {background-color: #d4ebff;}#sk-container-id-7 div.sk-parallel-item::after {content: \"\";width: 100%;border-bottom: 1px solid gray;flex-grow: 1;}#sk-container-id-7 div.sk-label:hover label.sk-toggleable__label {background-color: #d4ebff;}#sk-container-id-7 div.sk-serial::before {content: \"\";position: absolute;border-left: 1px solid gray;box-sizing: border-box;top: 0;bottom: 0;left: 50%;z-index: 0;}#sk-container-id-7 div.sk-serial {display: flex;flex-direction: column;align-items: center;background-color: white;padding-right: 0.2em;padding-left: 0.2em;position: relative;}#sk-container-id-7 div.sk-item {position: relative;z-index: 1;}#sk-container-id-7 div.sk-parallel {display: flex;align-items: stretch;justify-content: center;background-color: white;position: relative;}#sk-container-id-7 div.sk-item::before, #sk-container-id-7 div.sk-parallel-item::before {content: \"\";position: absolute;border-left: 1px solid gray;box-sizing: border-box;top: 0;bottom: 0;left: 50%;z-index: -1;}#sk-container-id-7 div.sk-parallel-item {display: flex;flex-direction: column;z-index: 1;position: relative;background-color: white;}#sk-container-id-7 div.sk-parallel-item:first-child::after {align-self: flex-end;width: 50%;}#sk-container-id-7 div.sk-parallel-item:last-child::after {align-self: flex-start;width: 50%;}#sk-container-id-7 div.sk-parallel-item:only-child::after {width: 0;}#sk-container-id-7 div.sk-dashed-wrapped {border: 1px dashed gray;margin: 0 0.4em 0.5em 0.4em;box-sizing: border-box;padding-bottom: 0.4em;background-color: white;}#sk-container-id-7 div.sk-label label {font-family: monospace;font-weight: bold;display: inline-block;line-height: 1.2em;}#sk-container-id-7 div.sk-label-container {text-align: center;}#sk-container-id-7 div.sk-container {/* jupyter's `normalize.less` sets `[hidden] { display: none; }` but bootstrap.min.css set `[hidden] { display: none !important; }` so we also need the `!important` here to be able to override the default hidden behavior on the sphinx rendered scikit-learn.org. See: https://github.com/scikit-learn/scikit-learn/issues/21755 */display: inline-block !important;position: relative;}#sk-container-id-7 div.sk-text-repr-fallback {display: none;}</style><div id=\"sk-container-id-7\" class=\"sk-top-container\"><div class=\"sk-text-repr-fallback\"><pre>RandomForestRegressor()</pre><b>In a Jupyter environment, please rerun this cell to show the HTML representation or trust the notebook. <br />On GitHub, the HTML representation is unable to render, please try loading this page with nbviewer.org.</b></div><div class=\"sk-container\" hidden><div class=\"sk-item\"><div class=\"sk-estimator sk-toggleable\"><input class=\"sk-toggleable__control sk-hidden--visually\" id=\"sk-estimator-id-7\" type=\"checkbox\" checked><label for=\"sk-estimator-id-7\" class=\"sk-toggleable__label sk-toggleable__label-arrow\">RandomForestRegressor</label><div class=\"sk-toggleable__content\"><pre>RandomForestRegressor()</pre></div></div></div></div></div>"
      ],
      "text/plain": [
       "RandomForestRegressor()"
      ]
     },
     "execution_count": 67,
     "metadata": {},
     "output_type": "execute_result"
    }
   ],
   "source": [
    "# 모델 학습\n",
    "model = RandomForestRegressor()\n",
    "model.fit(X_train, y_train)"
   ]
  },
  {
   "cell_type": "code",
   "execution_count": 68,
   "metadata": {},
   "outputs": [
    {
     "name": "stdout",
     "output_type": "stream",
     "text": [
      "Mean squared error: 16.50500207779873\n",
      "R-squared: 0.967855381368118\n"
     ]
    }
   ],
   "source": [
    "y_pred = model.predict(X_test)\n",
    "\n",
    "# 평균 제곱 오차(MSE)와 R-squared 값 계산\n",
    "mse = mean_squared_error(y_test, y_pred)\n",
    "r2 = r2_score(y_test, y_pred)\n",
    "\n",
    "print('Mean squared error:', mse)\n",
    "print('R-squared:', r2)"
   ]
  },
  {
   "cell_type": "code",
   "execution_count": 69,
   "metadata": {},
   "outputs": [
    {
     "name": "stdout",
     "output_type": "stream",
     "text": [
      "[35.6]\n"
     ]
    }
   ],
   "source": [
    "#예측 테스트 해보기\n",
    "test_predict = pd.DataFrame([[20210412, 4, 1, 1, 50.00, 0, 0, 5, 11, 12, 35]], columns=X_test.columns)\n",
    "test_predict = scaler.transform(test_predict)\n",
    "print(model.predict(test_predict))\n"
   ]
  },
  {
   "cell_type": "code",
   "execution_count": 70,
   "metadata": {},
   "outputs": [],
   "source": [
    "import pickle\n",
    "\n",
    "# 모델 저장\n",
    "with open('RFR_GYM_model.pkl', 'wb') as f:\n",
    "    pickle.dump(model, f)\n",
    "\n",
    "# StandardScaler 객체 저장\n",
    "with open('RFR_GYM_scaler.pkl', 'wb') as f:\n",
    "    pickle.dump(scaler, f)"
   ]
  }
 ],
 "metadata": {
  "kernelspec": {
   "display_name": "Python 3",
   "language": "python",
   "name": "python3"
  },
  "language_info": {
   "codemirror_mode": {
    "name": "ipython",
    "version": 3
   },
   "file_extension": ".py",
   "mimetype": "text/x-python",
   "name": "python",
   "nbconvert_exporter": "python",
   "pygments_lexer": "ipython3",
   "version": "3.11.3"
  },
  "orig_nbformat": 4
 },
 "nbformat": 4,
 "nbformat_minor": 2
}
